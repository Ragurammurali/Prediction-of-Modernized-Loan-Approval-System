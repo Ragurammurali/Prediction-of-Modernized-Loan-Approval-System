{
 "cells": [
  {
   "cell_type": "code",
   "execution_count": 2,
   "metadata": {
    "_cell_guid": "b1076dfc-b9ad-4769-8c92-a6c4dae69d19",
    "_uuid": "8f2839f25d086af736a60e9eeb907d3b93b6e0e5",
    "execution": {
     "iopub.execute_input": "2020-11-14T09:28:51.108428Z",
     "iopub.status.busy": "2020-11-14T09:28:51.107615Z",
     "iopub.status.idle": "2020-11-14T09:28:53.365992Z",
     "shell.execute_reply": "2020-11-14T09:28:53.365235Z"
    },
    "papermill": {
     "duration": 2.305188,
     "end_time": "2020-11-14T09:28:53.366136",
     "exception": false,
     "start_time": "2020-11-14T09:28:51.060948",
     "status": "completed"
    },
    "tags": []
   },
   "outputs": [],
   "source": [
    "import os\n",
    "import numpy as np\n",
    "import pandas as pd\n",
    "import warnings"
   ]
  },
  {
   "cell_type": "code",
   "execution_count": 3,
   "metadata": {},
   "outputs": [],
   "source": [
    "import matplotlib.pyplot as plt\n",
    "import seaborn as sns"
   ]
  },
  {
   "cell_type": "code",
   "execution_count": 4,
   "metadata": {},
   "outputs": [],
   "source": [
    "from sklearn.preprocessing import LabelEncoder\n",
    "from sklearn.model_selection import train_test_split\n",
    "from sklearn.metrics import confusion_matrix\n",
    "from sklearn.metrics import classification_report\n",
    "from sklearn.metrics import accuracy_score"
   ]
  },
  {
   "cell_type": "code",
   "execution_count": 6,
   "metadata": {},
   "outputs": [],
   "source": [
    "from xgboost import XGBClassifier\n",
    "from sklearn.tree import DecisionTreeClassifier\n",
    "from sklearn.ensemble import RandomForestClassifier\n",
    "from sklearn.linear_model import LogisticRegression"
   ]
  },
  {
   "cell_type": "code",
   "execution_count": 7,
   "metadata": {},
   "outputs": [],
   "source": [
    "sns.set(context='notebook', style='darkgrid', palette='deep', font='sans-serif', font_scale=1, color_codes=False, rc=None)\n",
    "warnings.filterwarnings(\"ignore\")"
   ]
  },
  {
   "cell_type": "code",
   "execution_count": 8,
   "metadata": {
    "execution": {
     "iopub.execute_input": "2020-11-14T09:28:53.610156Z",
     "iopub.status.busy": "2020-11-14T09:28:53.609337Z",
     "iopub.status.idle": "2020-11-14T09:28:53.613165Z",
     "shell.execute_reply": "2020-11-14T09:28:53.612400Z"
    },
    "papermill": {
     "duration": 0.046206,
     "end_time": "2020-11-14T09:28:53.613315",
     "exception": false,
     "start_time": "2020-11-14T09:28:53.567109",
     "status": "completed"
    },
    "tags": []
   },
   "outputs": [],
   "source": [
    "train_path = \"./Dataset/preprocess_Loan.csv\""
   ]
  },
  {
   "cell_type": "code",
   "execution_count": 9,
   "metadata": {
    "_kg_hide-input": true,
    "execution": {
     "iopub.execute_input": "2020-11-14T09:28:53.783353Z",
     "iopub.status.busy": "2020-11-14T09:28:53.782504Z",
     "iopub.status.idle": "2020-11-14T09:28:53.824274Z",
     "shell.execute_reply": "2020-11-14T09:28:53.824871Z"
    },
    "papermill": {
     "duration": 0.086541,
     "end_time": "2020-11-14T09:28:53.825053",
     "exception": false,
     "start_time": "2020-11-14T09:28:53.738512",
     "status": "completed"
    },
    "tags": []
   },
   "outputs": [
    {
     "data": {
      "text/html": [
       "<div>\n",
       "<style scoped>\n",
       "    .dataframe tbody tr th:only-of-type {\n",
       "        vertical-align: middle;\n",
       "    }\n",
       "\n",
       "    .dataframe tbody tr th {\n",
       "        vertical-align: top;\n",
       "    }\n",
       "\n",
       "    .dataframe thead th {\n",
       "        text-align: right;\n",
       "    }\n",
       "</style>\n",
       "<table border=\"1\" class=\"dataframe\">\n",
       "  <thead>\n",
       "    <tr style=\"text-align: right;\">\n",
       "      <th></th>\n",
       "      <th>Loan_ID</th>\n",
       "      <th>Gender</th>\n",
       "      <th>Married</th>\n",
       "      <th>Dependents</th>\n",
       "      <th>Education</th>\n",
       "      <th>Self_Employed</th>\n",
       "      <th>ApplicantIncome</th>\n",
       "      <th>CoapplicantIncome</th>\n",
       "      <th>LoanAmount</th>\n",
       "      <th>Loan_Amount_Term</th>\n",
       "      <th>Credit_History</th>\n",
       "      <th>Property_Area</th>\n",
       "      <th>Loan_Status</th>\n",
       "    </tr>\n",
       "  </thead>\n",
       "  <tbody>\n",
       "    <tr>\n",
       "      <th>0</th>\n",
       "      <td>LP001002</td>\n",
       "      <td>Male</td>\n",
       "      <td>No</td>\n",
       "      <td>0</td>\n",
       "      <td>Graduate</td>\n",
       "      <td>No</td>\n",
       "      <td>5849</td>\n",
       "      <td>0.0</td>\n",
       "      <td>146.0</td>\n",
       "      <td>360.0</td>\n",
       "      <td>1.0</td>\n",
       "      <td>Urban</td>\n",
       "      <td>Y</td>\n",
       "    </tr>\n",
       "    <tr>\n",
       "      <th>1</th>\n",
       "      <td>LP001003</td>\n",
       "      <td>Male</td>\n",
       "      <td>Yes</td>\n",
       "      <td>1</td>\n",
       "      <td>Graduate</td>\n",
       "      <td>No</td>\n",
       "      <td>4583</td>\n",
       "      <td>1508.0</td>\n",
       "      <td>128.0</td>\n",
       "      <td>360.0</td>\n",
       "      <td>1.0</td>\n",
       "      <td>Rural</td>\n",
       "      <td>N</td>\n",
       "    </tr>\n",
       "    <tr>\n",
       "      <th>2</th>\n",
       "      <td>LP001005</td>\n",
       "      <td>Male</td>\n",
       "      <td>Yes</td>\n",
       "      <td>0</td>\n",
       "      <td>Graduate</td>\n",
       "      <td>Yes</td>\n",
       "      <td>3000</td>\n",
       "      <td>0.0</td>\n",
       "      <td>66.0</td>\n",
       "      <td>360.0</td>\n",
       "      <td>1.0</td>\n",
       "      <td>Urban</td>\n",
       "      <td>Y</td>\n",
       "    </tr>\n",
       "    <tr>\n",
       "      <th>3</th>\n",
       "      <td>LP001006</td>\n",
       "      <td>Male</td>\n",
       "      <td>Yes</td>\n",
       "      <td>0</td>\n",
       "      <td>Not Graduate</td>\n",
       "      <td>No</td>\n",
       "      <td>2583</td>\n",
       "      <td>2358.0</td>\n",
       "      <td>120.0</td>\n",
       "      <td>360.0</td>\n",
       "      <td>1.0</td>\n",
       "      <td>Urban</td>\n",
       "      <td>Y</td>\n",
       "    </tr>\n",
       "    <tr>\n",
       "      <th>4</th>\n",
       "      <td>LP001008</td>\n",
       "      <td>Male</td>\n",
       "      <td>No</td>\n",
       "      <td>0</td>\n",
       "      <td>Graduate</td>\n",
       "      <td>No</td>\n",
       "      <td>6000</td>\n",
       "      <td>0.0</td>\n",
       "      <td>141.0</td>\n",
       "      <td>360.0</td>\n",
       "      <td>1.0</td>\n",
       "      <td>Urban</td>\n",
       "      <td>Y</td>\n",
       "    </tr>\n",
       "  </tbody>\n",
       "</table>\n",
       "</div>"
      ],
      "text/plain": [
       "    Loan_ID Gender Married Dependents     Education Self_Employed  \\\n",
       "0  LP001002   Male      No          0      Graduate            No   \n",
       "1  LP001003   Male     Yes          1      Graduate            No   \n",
       "2  LP001005   Male     Yes          0      Graduate           Yes   \n",
       "3  LP001006   Male     Yes          0  Not Graduate            No   \n",
       "4  LP001008   Male      No          0      Graduate            No   \n",
       "\n",
       "   ApplicantIncome  CoapplicantIncome  LoanAmount  Loan_Amount_Term  \\\n",
       "0             5849                0.0       146.0             360.0   \n",
       "1             4583             1508.0       128.0             360.0   \n",
       "2             3000                0.0        66.0             360.0   \n",
       "3             2583             2358.0       120.0             360.0   \n",
       "4             6000                0.0       141.0             360.0   \n",
       "\n",
       "   Credit_History Property_Area Loan_Status  \n",
       "0             1.0         Urban           Y  \n",
       "1             1.0         Rural           N  \n",
       "2             1.0         Urban           Y  \n",
       "3             1.0         Urban           Y  \n",
       "4             1.0         Urban           Y  "
      ]
     },
     "execution_count": 9,
     "metadata": {},
     "output_type": "execute_result"
    }
   ],
   "source": [
    "data = pd.read_csv(train_path)\n",
    "data.head()"
   ]
  },
  {
   "cell_type": "code",
   "execution_count": 10,
   "metadata": {
    "_kg_hide-input": true,
    "execution": {
     "iopub.execute_input": "2020-11-14T09:28:54.177145Z",
     "iopub.status.busy": "2020-11-14T09:28:54.176123Z",
     "iopub.status.idle": "2020-11-14T09:28:54.179767Z",
     "shell.execute_reply": "2020-11-14T09:28:54.180624Z"
    },
    "papermill": {
     "duration": 0.05012,
     "end_time": "2020-11-14T09:28:54.180811",
     "exception": false,
     "start_time": "2020-11-14T09:28:54.130691",
     "status": "completed"
    },
    "tags": []
   },
   "outputs": [
    {
     "name": "stdout",
     "output_type": "stream",
     "text": [
      "training set (row, col): (614, 13)\n"
     ]
    }
   ],
   "source": [
    "print(f\"training set (row, col): {data.shape}\")"
   ]
  },
  {
   "cell_type": "code",
   "execution_count": 11,
   "metadata": {
    "execution": {
     "iopub.execute_input": "2020-11-14T09:28:54.357239Z",
     "iopub.status.busy": "2020-11-14T09:28:54.356236Z",
     "iopub.status.idle": "2020-11-14T09:28:54.359883Z",
     "shell.execute_reply": "2020-11-14T09:28:54.360811Z"
    },
    "papermill": {
     "duration": 0.06021,
     "end_time": "2020-11-14T09:28:54.361027",
     "exception": false,
     "start_time": "2020-11-14T09:28:54.300817",
     "status": "completed"
    },
    "tags": []
   },
   "outputs": [
    {
     "name": "stdout",
     "output_type": "stream",
     "text": [
      "<class 'pandas.core.frame.DataFrame'>\n",
      "RangeIndex: 614 entries, 0 to 613\n",
      "Data columns (total 13 columns):\n",
      " #   Column             Non-Null Count  Dtype  \n",
      "---  ------             --------------  -----  \n",
      " 0   Loan_ID            614 non-null    object \n",
      " 1   Gender             614 non-null    object \n",
      " 2   Married            614 non-null    object \n",
      " 3   Dependents         614 non-null    object \n",
      " 4   Education          614 non-null    object \n",
      " 5   Self_Employed      614 non-null    object \n",
      " 6   ApplicantIncome    614 non-null    int64  \n",
      " 7   CoapplicantIncome  614 non-null    float64\n",
      " 8   LoanAmount         614 non-null    float64\n",
      " 9   Loan_Amount_Term   614 non-null    float64\n",
      " 10  Credit_History     614 non-null    float64\n",
      " 11  Property_Area      614 non-null    object \n",
      " 12  Loan_Status        614 non-null    object \n",
      "dtypes: float64(4), int64(1), object(8)\n",
      "memory usage: 62.5+ KB\n"
     ]
    }
   ],
   "source": [
    "data.info(verbose=True, null_counts=True)"
   ]
  },
  {
   "cell_type": "code",
   "execution_count": 12,
   "metadata": {
    "execution": {
     "iopub.execute_input": "2020-11-14T09:28:54.452950Z",
     "iopub.status.busy": "2020-11-14T09:28:54.452119Z",
     "iopub.status.idle": "2020-11-14T09:28:54.477593Z",
     "shell.execute_reply": "2020-11-14T09:28:54.476836Z"
    },
    "papermill": {
     "duration": 0.074792,
     "end_time": "2020-11-14T09:28:54.477719",
     "exception": false,
     "start_time": "2020-11-14T09:28:54.402927",
     "status": "completed"
    },
    "tags": []
   },
   "outputs": [
    {
     "data": {
      "text/html": [
       "<div>\n",
       "<style scoped>\n",
       "    .dataframe tbody tr th:only-of-type {\n",
       "        vertical-align: middle;\n",
       "    }\n",
       "\n",
       "    .dataframe tbody tr th {\n",
       "        vertical-align: top;\n",
       "    }\n",
       "\n",
       "    .dataframe thead th {\n",
       "        text-align: right;\n",
       "    }\n",
       "</style>\n",
       "<table border=\"1\" class=\"dataframe\">\n",
       "  <thead>\n",
       "    <tr style=\"text-align: right;\">\n",
       "      <th></th>\n",
       "      <th>ApplicantIncome</th>\n",
       "      <th>CoapplicantIncome</th>\n",
       "      <th>LoanAmount</th>\n",
       "      <th>Loan_Amount_Term</th>\n",
       "      <th>Credit_History</th>\n",
       "    </tr>\n",
       "  </thead>\n",
       "  <tbody>\n",
       "    <tr>\n",
       "      <th>count</th>\n",
       "      <td>614.000000</td>\n",
       "      <td>614.000000</td>\n",
       "      <td>614.000000</td>\n",
       "      <td>614.000000</td>\n",
       "      <td>614.000000</td>\n",
       "    </tr>\n",
       "    <tr>\n",
       "      <th>mean</th>\n",
       "      <td>5403.459283</td>\n",
       "      <td>1621.245798</td>\n",
       "      <td>146.397394</td>\n",
       "      <td>342.410423</td>\n",
       "      <td>0.855049</td>\n",
       "    </tr>\n",
       "    <tr>\n",
       "      <th>std</th>\n",
       "      <td>6109.041673</td>\n",
       "      <td>2926.248369</td>\n",
       "      <td>84.037503</td>\n",
       "      <td>64.428629</td>\n",
       "      <td>0.352339</td>\n",
       "    </tr>\n",
       "    <tr>\n",
       "      <th>min</th>\n",
       "      <td>150.000000</td>\n",
       "      <td>0.000000</td>\n",
       "      <td>9.000000</td>\n",
       "      <td>12.000000</td>\n",
       "      <td>0.000000</td>\n",
       "    </tr>\n",
       "    <tr>\n",
       "      <th>25%</th>\n",
       "      <td>2877.500000</td>\n",
       "      <td>0.000000</td>\n",
       "      <td>100.250000</td>\n",
       "      <td>360.000000</td>\n",
       "      <td>1.000000</td>\n",
       "    </tr>\n",
       "    <tr>\n",
       "      <th>50%</th>\n",
       "      <td>3812.500000</td>\n",
       "      <td>1188.500000</td>\n",
       "      <td>129.000000</td>\n",
       "      <td>360.000000</td>\n",
       "      <td>1.000000</td>\n",
       "    </tr>\n",
       "    <tr>\n",
       "      <th>75%</th>\n",
       "      <td>5795.000000</td>\n",
       "      <td>2297.250000</td>\n",
       "      <td>164.750000</td>\n",
       "      <td>360.000000</td>\n",
       "      <td>1.000000</td>\n",
       "    </tr>\n",
       "    <tr>\n",
       "      <th>max</th>\n",
       "      <td>81000.000000</td>\n",
       "      <td>41667.000000</td>\n",
       "      <td>700.000000</td>\n",
       "      <td>480.000000</td>\n",
       "      <td>1.000000</td>\n",
       "    </tr>\n",
       "  </tbody>\n",
       "</table>\n",
       "</div>"
      ],
      "text/plain": [
       "       ApplicantIncome  CoapplicantIncome  LoanAmount  Loan_Amount_Term  \\\n",
       "count       614.000000         614.000000  614.000000        614.000000   \n",
       "mean       5403.459283        1621.245798  146.397394        342.410423   \n",
       "std        6109.041673        2926.248369   84.037503         64.428629   \n",
       "min         150.000000           0.000000    9.000000         12.000000   \n",
       "25%        2877.500000           0.000000  100.250000        360.000000   \n",
       "50%        3812.500000        1188.500000  129.000000        360.000000   \n",
       "75%        5795.000000        2297.250000  164.750000        360.000000   \n",
       "max       81000.000000       41667.000000  700.000000        480.000000   \n",
       "\n",
       "       Credit_History  \n",
       "count      614.000000  \n",
       "mean         0.855049  \n",
       "std          0.352339  \n",
       "min          0.000000  \n",
       "25%          1.000000  \n",
       "50%          1.000000  \n",
       "75%          1.000000  \n",
       "max          1.000000  "
      ]
     },
     "execution_count": 12,
     "metadata": {},
     "output_type": "execute_result"
    }
   ],
   "source": [
    "data.describe()"
   ]
  },
  {
   "cell_type": "code",
   "execution_count": 13,
   "metadata": {
    "execution": {
     "iopub.execute_input": "2020-11-14T09:28:54.572568Z",
     "iopub.status.busy": "2020-11-14T09:28:54.571692Z",
     "iopub.status.idle": "2020-11-14T09:28:54.577493Z",
     "shell.execute_reply": "2020-11-14T09:28:54.576824Z"
    },
    "papermill": {
     "duration": 0.058488,
     "end_time": "2020-11-14T09:28:54.577642",
     "exception": false,
     "start_time": "2020-11-14T09:28:54.519154",
     "status": "completed"
    },
    "tags": []
   },
   "outputs": [
    {
     "name": "stdout",
     "output_type": "stream",
     "text": [
      "training set (row, col): (614, 12)\n"
     ]
    }
   ],
   "source": [
    "data.drop('Loan_ID',axis=1,inplace=True)\n",
    "print(f\"training set (row, col): {data.shape}\")"
   ]
  },
  {
   "cell_type": "code",
   "execution_count": 14,
   "metadata": {
    "execution": {
     "iopub.execute_input": "2020-11-14T09:28:54.783096Z",
     "iopub.status.busy": "2020-11-14T09:28:54.776627Z",
     "iopub.status.idle": "2020-11-14T09:28:54.788739Z",
     "shell.execute_reply": "2020-11-14T09:28:54.787764Z"
    },
    "papermill": {
     "duration": 0.072759,
     "end_time": "2020-11-14T09:28:54.788939",
     "exception": false,
     "start_time": "2020-11-14T09:28:54.716180",
     "status": "completed"
    },
    "tags": []
   },
   "outputs": [
    {
     "data": {
      "text/plain": [
       "Gender               0\n",
       "Married              0\n",
       "Dependents           0\n",
       "Education            0\n",
       "Self_Employed        0\n",
       "ApplicantIncome      0\n",
       "CoapplicantIncome    0\n",
       "LoanAmount           0\n",
       "Loan_Amount_Term     0\n",
       "Credit_History       0\n",
       "Property_Area        0\n",
       "Loan_Status          0\n",
       "dtype: int64"
      ]
     },
     "execution_count": 14,
     "metadata": {},
     "output_type": "execute_result"
    }
   ],
   "source": [
    "data.isnull().sum().sort_values(ascending=False)"
   ]
  },
  {
   "cell_type": "code",
   "execution_count": 15,
   "metadata": {
    "execution": {
     "iopub.execute_input": "2020-11-14T09:28:54.982630Z",
     "iopub.status.busy": "2020-11-14T09:28:54.981100Z",
     "iopub.status.idle": "2020-11-14T09:28:55.031639Z",
     "shell.execute_reply": "2020-11-14T09:28:55.030476Z"
    },
    "papermill": {
     "duration": 0.106827,
     "end_time": "2020-11-14T09:28:55.031823",
     "exception": false,
     "start_time": "2020-11-14T09:28:54.924996",
     "status": "completed"
    },
    "tags": []
   },
   "outputs": [
    {
     "name": "stdout",
     "output_type": "stream",
     "text": [
      "Before filling missing values\n",
      "\n",
      " ################################################## \n",
      "\n",
      "Credit_History:\n",
      "1.0    525\n",
      "0.0     89\n",
      "Name: Credit_History, dtype: int64\n",
      " --------------------------------------------------\n",
      "Self_Employed:\n",
      "No     532\n",
      "Yes     82\n",
      "Name: Self_Employed, dtype: int64\n",
      " --------------------------------------------------\n",
      "LoanAmount:\n",
      "146.0    23\n",
      "120.0    20\n",
      "110.0    17\n",
      "100.0    15\n",
      "160.0    12\n",
      "         ..\n",
      "54.0      1\n",
      "78.0      1\n",
      "436.0     1\n",
      "207.0     1\n",
      "253.0     1\n",
      "Name: LoanAmount, Length: 203, dtype: int64\n",
      " --------------------------------------------------\n",
      "Dependents:\n",
      "0     360\n",
      "1     102\n",
      "2     101\n",
      "3+     51\n",
      "Name: Dependents, dtype: int64\n",
      " --------------------------------------------------\n",
      "Loan_Amount_Term:\n",
      "360.0    526\n",
      "180.0     44\n",
      "480.0     15\n",
      "300.0     13\n",
      "240.0      4\n",
      "84.0       4\n",
      "120.0      3\n",
      "60.0       2\n",
      "36.0       2\n",
      "12.0       1\n",
      "Name: Loan_Amount_Term, dtype: int64\n",
      " --------------------------------------------------\n",
      "Gender:\n",
      "Male      502\n",
      "Female    112\n",
      "Name: Gender, dtype: int64\n",
      " --------------------------------------------------\n",
      "Married:\n",
      "Yes    401\n",
      "No     213\n",
      "Name: Married, dtype: int64\n",
      " --------------------------------------------------\n",
      "After filling missing values\n",
      "\n",
      " ################################################## \n",
      "\n",
      "\n",
      "Credit_History:\n",
      "1.0    525\n",
      "0.0     89\n",
      "Name: Credit_History, dtype: int64\n",
      " --------------------------------------------------\n",
      "\n",
      "Self_Employed:\n",
      "No     532\n",
      "Yes     82\n",
      "Name: Self_Employed, dtype: int64\n",
      " --------------------------------------------------\n",
      "\n",
      "LoanAmount:\n",
      "146.0    23\n",
      "120.0    20\n",
      "110.0    17\n",
      "100.0    15\n",
      "160.0    12\n",
      "         ..\n",
      "54.0      1\n",
      "78.0      1\n",
      "436.0     1\n",
      "207.0     1\n",
      "253.0     1\n",
      "Name: LoanAmount, Length: 203, dtype: int64\n",
      " --------------------------------------------------\n",
      "\n",
      "Dependents:\n",
      "0     360\n",
      "1     102\n",
      "2     101\n",
      "3+     51\n",
      "Name: Dependents, dtype: int64\n",
      " --------------------------------------------------\n",
      "\n",
      "Loan_Amount_Term:\n",
      "360.0    526\n",
      "180.0     44\n",
      "480.0     15\n",
      "300.0     13\n",
      "240.0      4\n",
      "84.0       4\n",
      "120.0      3\n",
      "60.0       2\n",
      "36.0       2\n",
      "12.0       1\n",
      "Name: Loan_Amount_Term, dtype: int64\n",
      " --------------------------------------------------\n",
      "\n",
      "Gender:\n",
      "Male      502\n",
      "Female    112\n",
      "Name: Gender, dtype: int64\n",
      " --------------------------------------------------\n",
      "\n",
      "Married:\n",
      "Yes    401\n",
      "No     213\n",
      "Name: Married, dtype: int64\n",
      " --------------------------------------------------\n"
     ]
    }
   ],
   "source": [
    "print(\"Before filling missing values\\n\\n\",\"#\"*50,\"\\n\")\n",
    "null_cols = ['Credit_History', 'Self_Employed', 'LoanAmount','Dependents', 'Loan_Amount_Term', 'Gender', 'Married']\n",
    "\n",
    "\n",
    "for col in null_cols:\n",
    "    print(f\"{col}:\\n{data[col].value_counts()}\\n\",\"-\"*50)\n",
    "    data[col] = data[col].fillna(\n",
    "    data[col].dropna().mode().values[0] )   \n",
    "\n",
    "    \n",
    "data.isnull().sum().sort_values(ascending=False)\n",
    "print(\"After filling missing values\\n\\n\",\"#\"*50,\"\\n\")\n",
    "for col in null_cols:\n",
    "    print(f\"\\n{col}:\\n{data[col].value_counts()}\\n\",\"-\"*50)"
   ]
  },
  {
   "cell_type": "code",
   "execution_count": 16,
   "metadata": {
    "execution": {
     "iopub.execute_input": "2020-11-14T09:28:55.394500Z",
     "iopub.status.busy": "2020-11-14T09:28:55.393751Z",
     "iopub.status.idle": "2020-11-14T09:28:55.397140Z",
     "shell.execute_reply": "2020-11-14T09:28:55.396417Z"
    },
    "papermill": {
     "duration": 0.058268,
     "end_time": "2020-11-14T09:28:55.397272",
     "exception": false,
     "start_time": "2020-11-14T09:28:55.339004",
     "status": "completed"
    },
    "tags": []
   },
   "outputs": [],
   "source": [
    "num = data.select_dtypes('number').columns.to_list()\n",
    "cat = data.select_dtypes('object').columns.to_list()\n",
    "loan_num =  data[num]\n",
    "loan_cat = data[cat]"
   ]
  },
  {
   "cell_type": "code",
   "execution_count": 17,
   "metadata": {
    "execution": {
     "iopub.execute_input": "2020-11-14T09:28:55.497191Z",
     "iopub.status.busy": "2020-11-14T09:28:55.496418Z",
     "iopub.status.idle": "2020-11-14T09:28:55.727215Z",
     "shell.execute_reply": "2020-11-14T09:28:55.726463Z"
    },
    "papermill": {
     "duration": 0.286394,
     "end_time": "2020-11-14T09:28:55.727341",
     "exception": false,
     "start_time": "2020-11-14T09:28:55.440947",
     "status": "completed"
    },
    "tags": []
   },
   "outputs": [
    {
     "name": "stdout",
     "output_type": "stream",
     "text": [
      "Y    422\n",
      "N    192\n",
      "Name: Loan_Status, dtype: int64\n"
     ]
    },
    {
     "data": {
      "image/png": "[encoded data removed]",
      "text/plain": [
       "<Figure size 576x720 with 1 Axes>"
      ]
     },
     "metadata": {},
     "output_type": "display_data"
    }
   ],
   "source": [
    "print(data[cat[-1]].value_counts())\n",
    "total = float(len(data[cat[-1]]))\n",
    "plt.figure(figsize=(8,10))\n",
    "sns.set(style=\"whitegrid\")\n",
    "ax = sns.countplot(data[cat[-1]])\n",
    "for p in ax.patches:\n",
    "    height = p.get_height()\n",
    "    ax.text(p.get_x()+p.get_width()/2.,height + 3,'{:1.2f}'.format(height/total),ha=\"center\") \n",
    "plt.show()"
   ]
  },
  {
   "cell_type": "code",
   "execution_count": 18,
   "metadata": {
    "execution": {
     "iopub.execute_input": "2020-11-14T09:28:59.192613Z",
     "iopub.status.busy": "2020-11-14T09:28:59.187813Z",
     "iopub.status.idle": "2020-11-14T09:28:59.239753Z",
     "shell.execute_reply": "2020-11-14T09:28:59.238784Z"
    },
    "papermill": {
     "duration": 0.117432,
     "end_time": "2020-11-14T09:28:59.239933",
     "exception": false,
     "start_time": "2020-11-14T09:28:59.122501",
     "status": "completed"
    },
    "tags": []
   },
   "outputs": [
    {
     "name": "stdout",
     "output_type": "stream",
     "text": [
      "training set (row, col): (614, 12)\n",
      "<class 'pandas.core.frame.DataFrame'>\n",
      "RangeIndex: 614 entries, 0 to 613\n",
      "Data columns (total 12 columns):\n",
      " #   Column             Non-Null Count  Dtype  \n",
      "---  ------             --------------  -----  \n",
      " 0   Gender             614 non-null    int64  \n",
      " 1   Married            614 non-null    int64  \n",
      " 2   Education          614 non-null    int64  \n",
      " 3   Self_Employed      614 non-null    int64  \n",
      " 4   ApplicantIncome    614 non-null    int64  \n",
      " 5   CoapplicantIncome  614 non-null    float64\n",
      " 6   LoanAmount         614 non-null    float64\n",
      " 7   Loan_Amount_Term   614 non-null    float64\n",
      " 8   Credit_History     614 non-null    float64\n",
      " 9   Property_Area      614 non-null    int64  \n",
      " 10  Loan_Status        614 non-null    int64  \n",
      " 11  Dependents         614 non-null    int64  \n",
      "dtypes: float64(4), int64(8)\n",
      "memory usage: 57.7 KB\n",
      "None\n"
     ]
    }
   ],
   "source": [
    "to_numeric = {'Male': 1, 'Female': 2,\n",
    "'Yes': 1, 'No': 2,\n",
    "'Graduate': 1, 'Not Graduate': 2,\n",
    "'Urban': 3, 'Semiurban': 2,'Rural': 1,\n",
    "'Y': 1, 'N': 0,\n",
    "'3+': 3}\n",
    "data = data.applymap(lambda lable: to_numeric.get(lable) if lable in to_numeric else lable)\n",
    "Dependents_ = pd.to_numeric(data.Dependents)\n",
    "data.drop(['Dependents'], axis = 1, inplace = True)\n",
    "data = pd.concat([data, Dependents_], axis = 1)\n",
    "print(f\"training set (row, col): {data.shape}\")\n",
    "print(data.info())"
   ]
  },
  {
   "cell_type": "code",
   "execution_count": 19,
   "metadata": {
    "execution": {
     "iopub.execute_input": "2020-11-14T09:28:59.472068Z",
     "iopub.status.busy": "2020-11-14T09:28:59.470988Z",
     "iopub.status.idle": "2020-11-14T09:28:59.886264Z",
     "shell.execute_reply": "2020-11-14T09:28:59.885516Z"
    },
    "papermill": {
     "duration": 0.479514,
     "end_time": "2020-11-14T09:28:59.886395",
     "exception": false,
     "start_time": "2020-11-14T09:28:59.406881",
     "status": "completed"
    },
    "tags": []
   },
   "outputs": [
    {
     "data": {
      "text/plain": [
       "<AxesSubplot:>"
      ]
     },
     "execution_count": 19,
     "metadata": {},
     "output_type": "execute_result"
    },
    {
     "data": {
      "image/png": "[encoded data removed]",
      "text/plain": [
       "<Figure size 936x576 with 2 Axes>"
      ]
     },
     "metadata": {},
     "output_type": "display_data"
    }
   ],
   "source": [
    "plt.subplots(figsize=(13,8))\n",
    "sns.heatmap(data.corr(), vmin=0, vmax=0.5)"
   ]
  },
  {
   "cell_type": "code",
   "execution_count": 143,
   "metadata": {
    "execution": {
     "iopub.execute_input": "2020-11-14T09:29:00.714753Z",
     "iopub.status.busy": "2020-11-14T09:29:00.713653Z",
     "iopub.status.idle": "2020-11-14T09:29:00.717306Z",
     "shell.execute_reply": "2020-11-14T09:29:00.716499Z"
    },
    "papermill": {
     "duration": 0.074123,
     "end_time": "2020-11-14T09:29:00.717434",
     "exception": false,
     "start_time": "2020-11-14T09:29:00.643311",
     "status": "completed"
    },
    "tags": []
   },
   "outputs": [],
   "source": [
    "y = data['Loan_Status']\n",
    "X = data.drop('Loan_Status', axis = 1)\n",
    "X_train, X_test, y_train, y_test = train_test_split(X, y, test_size = 0.38, random_state = 0)"
   ]
  },
  {
   "cell_type": "code",
   "execution_count": 144,
   "metadata": {},
   "outputs": [
    {
     "data": {
      "text/html": [
       "<div>\n",
       "<style scoped>\n",
       "    .dataframe tbody tr th:only-of-type {\n",
       "        vertical-align: middle;\n",
       "    }\n",
       "\n",
       "    .dataframe tbody tr th {\n",
       "        vertical-align: top;\n",
       "    }\n",
       "\n",
       "    .dataframe thead th {\n",
       "        text-align: right;\n",
       "    }\n",
       "</style>\n",
       "<table border=\"1\" class=\"dataframe\">\n",
       "  <thead>\n",
       "    <tr style=\"text-align: right;\">\n",
       "      <th></th>\n",
       "      <th>Gender</th>\n",
       "      <th>Married</th>\n",
       "      <th>Education</th>\n",
       "      <th>Self_Employed</th>\n",
       "      <th>ApplicantIncome</th>\n",
       "      <th>CoapplicantIncome</th>\n",
       "      <th>LoanAmount</th>\n",
       "      <th>Loan_Amount_Term</th>\n",
       "      <th>Credit_History</th>\n",
       "      <th>Property_Area</th>\n",
       "      <th>Dependents</th>\n",
       "    </tr>\n",
       "  </thead>\n",
       "  <tbody>\n",
       "    <tr>\n",
       "      <th>137</th>\n",
       "      <td>1</td>\n",
       "      <td>1</td>\n",
       "      <td>1</td>\n",
       "      <td>1</td>\n",
       "      <td>3316</td>\n",
       "      <td>3500.0</td>\n",
       "      <td>88.0</td>\n",
       "      <td>360.0</td>\n",
       "      <td>1.0</td>\n",
       "      <td>3</td>\n",
       "      <td>2</td>\n",
       "    </tr>\n",
       "    <tr>\n",
       "      <th>330</th>\n",
       "      <td>1</td>\n",
       "      <td>2</td>\n",
       "      <td>1</td>\n",
       "      <td>2</td>\n",
       "      <td>4384</td>\n",
       "      <td>1793.0</td>\n",
       "      <td>117.0</td>\n",
       "      <td>360.0</td>\n",
       "      <td>1.0</td>\n",
       "      <td>3</td>\n",
       "      <td>1</td>\n",
       "    </tr>\n",
       "    <tr>\n",
       "      <th>7</th>\n",
       "      <td>1</td>\n",
       "      <td>1</td>\n",
       "      <td>1</td>\n",
       "      <td>2</td>\n",
       "      <td>3036</td>\n",
       "      <td>2504.0</td>\n",
       "      <td>158.0</td>\n",
       "      <td>360.0</td>\n",
       "      <td>0.0</td>\n",
       "      <td>2</td>\n",
       "      <td>3</td>\n",
       "    </tr>\n",
       "    <tr>\n",
       "      <th>483</th>\n",
       "      <td>1</td>\n",
       "      <td>1</td>\n",
       "      <td>1</td>\n",
       "      <td>2</td>\n",
       "      <td>10833</td>\n",
       "      <td>0.0</td>\n",
       "      <td>234.0</td>\n",
       "      <td>360.0</td>\n",
       "      <td>1.0</td>\n",
       "      <td>2</td>\n",
       "      <td>0</td>\n",
       "    </tr>\n",
       "    <tr>\n",
       "      <th>179</th>\n",
       "      <td>1</td>\n",
       "      <td>2</td>\n",
       "      <td>2</td>\n",
       "      <td>2</td>\n",
       "      <td>2333</td>\n",
       "      <td>1451.0</td>\n",
       "      <td>102.0</td>\n",
       "      <td>480.0</td>\n",
       "      <td>0.0</td>\n",
       "      <td>3</td>\n",
       "      <td>0</td>\n",
       "    </tr>\n",
       "  </tbody>\n",
       "</table>\n",
       "</div>"
      ],
      "text/plain": [
       "     Gender  Married  Education  Self_Employed  ApplicantIncome  \\\n",
       "137       1        1          1              1             3316   \n",
       "330       1        2          1              2             4384   \n",
       "7         1        1          1              2             3036   \n",
       "483       1        1          1              2            10833   \n",
       "179       1        2          2              2             2333   \n",
       "\n",
       "     CoapplicantIncome  LoanAmount  Loan_Amount_Term  Credit_History  \\\n",
       "137             3500.0        88.0             360.0             1.0   \n",
       "330             1793.0       117.0             360.0             1.0   \n",
       "7               2504.0       158.0             360.0             0.0   \n",
       "483                0.0       234.0             360.0             1.0   \n",
       "179             1451.0       102.0             480.0             0.0   \n",
       "\n",
       "     Property_Area  Dependents  \n",
       "137              3           2  \n",
       "330              3           1  \n",
       "7                2           3  \n",
       "483              2           0  \n",
       "179              3           0  "
      ]
     },
     "execution_count": 144,
     "metadata": {},
     "output_type": "execute_result"
    }
   ],
   "source": [
    "X_train.head()"
   ]
  },
  {
   "cell_type": "code",
   "execution_count": 145,
   "metadata": {},
   "outputs": [
    {
     "data": {
      "text/plain": [
       "Gender                 int64\n",
       "Married                int64\n",
       "Education              int64\n",
       "Self_Employed          int64\n",
       "ApplicantIncome        int64\n",
       "CoapplicantIncome    float64\n",
       "LoanAmount           float64\n",
       "Loan_Amount_Term     float64\n",
       "Credit_History       float64\n",
       "Property_Area          int64\n",
       "Dependents             int64\n",
       "dtype: object"
      ]
     },
     "execution_count": 145,
     "metadata": {},
     "output_type": "execute_result"
    }
   ],
   "source": [
    "X_train.dtypes"
   ]
  },
  {
   "cell_type": "code",
   "execution_count": 146,
   "metadata": {},
   "outputs": [
    {
     "data": {
      "text/plain": [
       "137    1\n",
       "330    1\n",
       "7      0\n",
       "483    1\n",
       "179    0\n",
       "      ..\n",
       "277    1\n",
       "9      0\n",
       "359    1\n",
       "192    0\n",
       "559    1\n",
       "Name: Loan_Status, Length: 380, dtype: int64"
      ]
     },
     "execution_count": 146,
     "metadata": {},
     "output_type": "execute_result"
    }
   ],
   "source": [
    "y_train"
   ]
  },
  {
   "cell_type": "code",
   "execution_count": 147,
   "metadata": {
    "execution": {
     "iopub.execute_input": "2020-11-14T09:29:00.969531Z",
     "iopub.status.busy": "2020-11-14T09:29:00.968649Z",
     "iopub.status.idle": "2020-11-14T09:29:00.984868Z",
     "shell.execute_reply": "2020-11-14T09:29:00.983973Z"
    },
    "papermill": {
     "duration": 0.088356,
     "end_time": "2020-11-14T09:29:00.985039",
     "exception": false,
     "start_time": "2020-11-14T09:29:00.896683",
     "status": "completed"
    },
    "tags": []
   },
   "outputs": [
    {
     "name": "stdout",
     "output_type": "stream",
     "text": [
      "              precision    recall  f1-score   support\n",
      "\n",
      "           0       0.48      0.46      0.47        69\n",
      "           1       0.78      0.79      0.78       165\n",
      "\n",
      "    accuracy                           0.69       234\n",
      "   macro avg       0.63      0.63      0.63       234\n",
      "weighted avg       0.69      0.69      0.69       234\n",
      "\n",
      "69.23% Accurate\n"
     ]
    }
   ],
   "source": [
    "DT = DecisionTreeClassifier(max_depth=98)\n",
    "DT.fit(X_train, y_train)\n",
    "y_predict = DT.predict(X_test)\n",
    "print(classification_report(y_test, y_predict))\n",
    "DT_SC = accuracy_score(y_predict,y_test)\n",
    "print(f\"{round(DT_SC*100,2)}% Accurate\")"
   ]
  },
  {
   "cell_type": "code",
   "execution_count": 148,
   "metadata": {},
   "outputs": [
    {
     "name": "stdout",
     "output_type": "stream",
     "text": [
      "0.7051282051282052\n"
     ]
    }
   ],
   "source": [
    "from sklearn.neighbors import KNeighborsClassifier\n",
    "knn = KNeighborsClassifier(n_neighbors = 55, metric = 'minkowski', p = 2)\n",
    "knn.fit(X_train, y_train)\n",
    "Y_pred_knn = knn.predict(X_test)\n",
    "KNN_SC = accuracy_score(y_test, Y_pred_knn)\n",
    "print(KNN_SC)"
   ]
  },
  {
   "cell_type": "code",
   "execution_count": 149,
   "metadata": {},
   "outputs": [
    {
     "data": {
      "text/plain": [
       "['liblinear', 'newton-cg', 'lbfgs', 'sag', 'saga']"
      ]
     },
     "execution_count": 149,
     "metadata": {},
     "output_type": "execute_result"
    }
   ],
   "source": [
    "['liblinear', 'newton-cg', 'lbfgs', 'sag', 'saga']"
   ]
  },
  {
   "cell_type": "code",
   "execution_count": 150,
   "metadata": {},
   "outputs": [
    {
     "name": "stdout",
     "output_type": "stream",
     "text": [
      "              precision    recall  f1-score   support\n",
      "\n",
      "           0       0.00      0.00      0.00        69\n",
      "           1       0.71      1.00      0.83       165\n",
      "\n",
      "    accuracy                           0.71       234\n",
      "   macro avg       0.35      0.50      0.41       234\n",
      "weighted avg       0.50      0.71      0.58       234\n",
      "\n",
      "accuracy is 0.7051282051282052\n"
     ]
    }
   ],
   "source": [
    "logmodel = LogisticRegression(solver='sag')\n",
    "logmodel.fit(X_train, y_train)\n",
    "y_predict = logmodel.predict(X_test)\n",
    "print(classification_report(y_test, y_predict))\n",
    "LR_SC = accuracy_score(y_predict,y_test)\n",
    "print('accuracy is',accuracy_score(y_predict,y_test))"
   ]
  },
  {
   "cell_type": "code",
   "execution_count": 151,
   "metadata": {
    "execution": {
     "iopub.execute_input": "2020-11-14T09:29:03.727240Z",
     "iopub.status.busy": "2020-11-14T09:29:03.726224Z",
     "iopub.status.idle": "2020-11-14T09:29:03.731060Z",
     "shell.execute_reply": "2020-11-14T09:29:03.730325Z"
    },
    "papermill": {
     "duration": 0.082603,
     "end_time": "2020-11-14T09:29:03.731182",
     "exception": false,
     "start_time": "2020-11-14T09:29:03.648579",
     "status": "completed"
    },
    "tags": []
   },
   "outputs": [
    {
     "data": {
      "text/html": [
       "<div>\n",
       "<style scoped>\n",
       "    .dataframe tbody tr th:only-of-type {\n",
       "        vertical-align: middle;\n",
       "    }\n",
       "\n",
       "    .dataframe tbody tr th {\n",
       "        vertical-align: top;\n",
       "    }\n",
       "\n",
       "    .dataframe thead th {\n",
       "        text-align: right;\n",
       "    }\n",
       "</style>\n",
       "<table border=\"1\" class=\"dataframe\">\n",
       "  <thead>\n",
       "    <tr style=\"text-align: right;\">\n",
       "      <th></th>\n",
       "      <th>n_neighbors</th>\n",
       "      <th>Score</th>\n",
       "    </tr>\n",
       "  </thead>\n",
       "  <tbody>\n",
       "    <tr>\n",
       "      <th>1</th>\n",
       "      <td>Logistic Regression</td>\n",
       "      <td>0.705128</td>\n",
       "    </tr>\n",
       "    <tr>\n",
       "      <th>2</th>\n",
       "      <td>KNN</td>\n",
       "      <td>0.705128</td>\n",
       "    </tr>\n",
       "    <tr>\n",
       "      <th>0</th>\n",
       "      <td>Decision Tree</td>\n",
       "      <td>0.692308</td>\n",
       "    </tr>\n",
       "  </tbody>\n",
       "</table>\n",
       "</div>"
      ],
      "text/plain": [
       "           n_neighbors     Score\n",
       "1  Logistic Regression  0.705128\n",
       "2                  KNN  0.705128\n",
       "0        Decision Tree  0.692308"
      ]
     },
     "execution_count": 151,
     "metadata": {},
     "output_type": "execute_result"
    }
   ],
   "source": [
    "score = [DT_SC,LR_SC,KNN_SC]\n",
    "Models = pd.DataFrame({\n",
    "    'n_neighbors': [\"Decision Tree\",\"Logistic Regression\", \"KNN\"],\n",
    "    'Score': score})\n",
    "Models.sort_values(by='Score', ascending=False)"
   ]
  },
  {
   "cell_type": "code",
   "execution_count": 152,
   "metadata": {},
   "outputs": [
    {
     "data": {
      "image/png": "[encoded data removed]",
      "text/plain": [
       "<Figure size 432x288 with 1 Axes>"
      ]
     },
     "metadata": {},
     "output_type": "display_data"
    }
   ],
   "source": [
    "KNN = KNN_SC * 100\n",
    "LR=LR_SC * 100\n",
    "DT=DT_SC* 100\n",
    "height = [KNN,LR,DT]\n",
    "bars = ( 'KNN', 'LR','DT')\n",
    "x_pos = np.arange(len(bars))\n",
    "plt.bar(x_pos, height, color=['#69C96E', '#4482C1', '#B24BF3'])\n",
    "plt.xticks(x_pos, bars)\n",
    "plt.show()"
   ]
  },
  {
   "cell_type": "code",
   "execution_count": 153,
   "metadata": {},
   "outputs": [
    {
     "name": "stdout",
     "output_type": "stream",
     "text": [
      "Model successfully completed......!\n"
     ]
    }
   ],
   "source": [
    "import pickle\n",
    "KNN_model_path = \"./Trained_Model/model.pkl\"\n",
    "with open(KNN_model_path, 'wb') as file:\n",
    "    pickle.dump(knn, file)\n",
    "print(\"Model successfully completed......!\")"
   ]
  },
  {
   "cell_type": "code",
   "execution_count": null,
   "metadata": {},
   "outputs": [],
   "source": []
  },
  {
   "cell_type": "code",
   "execution_count": null,
   "metadata": {},
   "outputs": [],
   "source": []
  },
  {
   "cell_type": "code",
   "execution_count": null,
   "metadata": {},
   "outputs": [],
   "source": []
  },
  {
   "cell_type": "code",
   "execution_count": null,
   "metadata": {},
   "outputs": [],
   "source": []
  }
 ],
 "metadata": {
  "kernelspec": {
   "display_name": "Python 3 (ipykernel)",
   "language": "python",
   "name": "python3"
  },
  "language_info": {
   "codemirror_mode": {
    "name": "ipython",
    "version": 3
   },
   "file_extension": ".py",
   "mimetype": "text/x-python",
   "name": "python",
   "nbconvert_exporter": "python",
   "pygments_lexer": "ipython3",
   "version": "3.9.7"
  },
  "papermill": {
   "duration": 17.742218,
   "end_time": "2020-11-14T09:29:04.027456",
   "environment_variables": {},
   "exception": null,
   "input_path": "__notebook__.ipynb",
   "output_path": "__notebook__.ipynb",
   "parameters": {},
   "start_time": "2020-11-14T09:28:46.285238",
   "version": "2.1.0"
  }
 },
 "nbformat": 4,
 "nbformat_minor": 4
}
